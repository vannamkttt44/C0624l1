{
 "cells": [
  {
   "cell_type": "code",
   "execution_count": 5,
   "id": "20d683dc-d312-4ea6-82cc-9e4b6f3876f8",
   "metadata": {},
   "outputs": [
    {
     "ename": "TypeError",
     "evalue": "TNavigator.forward() missing 1 required positional argument: 'distance'",
     "output_type": "error",
     "traceback": [
      "\u001b[1;31m---------------------------------------------------------------------------\u001b[0m",
      "\u001b[1;31mTypeError\u001b[0m                                 Traceback (most recent call last)",
      "Cell \u001b[1;32mIn[5], line 4\u001b[0m\n\u001b[0;32m      2\u001b[0m t \u001b[38;5;241m=\u001b[39m turtle\u001b[38;5;241m.\u001b[39mTurtle\n\u001b[0;32m      3\u001b[0m \u001b[38;5;28;01mfor\u001b[39;00m i \u001b[38;5;129;01min\u001b[39;00m \u001b[38;5;28mrange\u001b[39m(\u001b[38;5;241m360\u001b[39m):\n\u001b[1;32m----> 4\u001b[0m     \u001b[43mt\u001b[49m\u001b[38;5;241;43m.\u001b[39;49m\u001b[43mfd\u001b[49m\u001b[43m(\u001b[49m\u001b[38;5;241;43m3\u001b[39;49m\u001b[43m)\u001b[49m\n\u001b[0;32m      5\u001b[0m     t\u001b[38;5;241m.\u001b[39mright(\u001b[38;5;241m1\u001b[39m)\n",
      "\u001b[1;31mTypeError\u001b[0m: TNavigator.forward() missing 1 required positional argument: 'distance'"
     ]
    }
   ],
   "source": [
    "import turtle\n",
    "t = turtle.Turtle\n",
    "for i in range(360):\n",
    "    t.fd(3)\n",
    "    t.right(1)"
   ]
  }
 ],
 "metadata": {
  "kernelspec": {
   "display_name": "Python 3 (ipykernel)",
   "language": "python",
   "name": "python3"
  },
  "language_info": {
   "codemirror_mode": {
    "name": "ipython",
    "version": 3
   },
   "file_extension": ".py",
   "mimetype": "text/x-python",
   "name": "python",
   "nbconvert_exporter": "python",
   "pygments_lexer": "ipython3",
   "version": "3.12.4"
  }
 },
 "nbformat": 4,
 "nbformat_minor": 5
}
